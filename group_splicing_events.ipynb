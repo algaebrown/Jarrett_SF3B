{
 "cells": [
  {
   "cell_type": "code",
   "execution_count": 1,
   "id": "7f54c5b5",
   "metadata": {},
   "outputs": [],
   "source": [
    "from pathlib import Path\n",
    "pladb = Path('/projects/ps-yeolab5/hsher/jarrett_sf3b/rmats/DMSO-DMSO_DMSO-PladB')\n",
    "wx23 = Path('/projects/ps-yeolab5/hsher/jarrett_sf3b/rmats/DMSO-DMSO_DMSO-WX-2-23')\n",
    "wx43 = Path('/projects/ps-yeolab5/hsher/jarrett_sf3b/rmats/DMSO-DMSO_DMSO-WX-2-43')\n",
    "ddxko = Path('/projects/ps-yeolab5/hsher/jarrett_sf3b/rmats/DMSO-DMSO_dTAGv1-DMSO')"
   ]
  },
  {
   "cell_type": "code",
   "execution_count": 2,
   "id": "3bcf5927",
   "metadata": {},
   "outputs": [],
   "source": [
    "import sys\n",
    "sys.path.append('/home/hsher/projects/splice_snake/scripts/')\n",
    "from rmats_grouping import *"
   ]
  },
  {
   "cell_type": "code",
   "execution_count": 3,
   "id": "17f8749f",
   "metadata": {},
   "outputs": [],
   "source": [
    "def enough_covered_event(df, cov_cutoff = 100):\n",
    "    # find highly covered\n",
    "    df['SAMPLE1_read'] = df['IJC_SAMPLE_1'].map(comma_delim_mean)+df['SJC_SAMPLE_1'].map(comma_delim_mean)\n",
    "    df['SAMPLE2_read'] = df['IJC_SAMPLE_2'].map(comma_delim_mean)+df['SJC_SAMPLE_2'].map(comma_delim_mean)\n",
    "    qualified_id = df.loc[(df['SAMPLE1_read']>cov_cutoff)&(df['SAMPLE2_read']>cov_cutoff), 'unique_id']\n",
    "    return qualified_id"
   ]
  },
  {
   "cell_type": "code",
   "execution_count": 4,
   "id": "dd9dd404",
   "metadata": {},
   "outputs": [],
   "source": [
    "def make_unique_id(df, columns = ['chr','exonStart_0base',\n",
    "       'exonEnd', 'upstreamES', 'upstreamEE', 'downstreamES', 'downstreamEE']):\n",
    "    df['unique_id'] = df[columns].apply(lambda x: ':'.join(\n",
    "    [str(i) for i in x]), axis = 1)\n",
    "def find_subset_events(folder1, folder2, \n",
    "                       event = 'A3SS',\n",
    "                      columns = ['chr', 'strand', 'longExonStart_0base',\n",
    "       'longExonEnd', 'shortES', 'shortEE','flankingES', 'flankingEE']):\n",
    "    pos1, neg1, control1 = make_upon_KD_file(folder1/ f'{event}.MATS.JC.txt', min_reads = 100)\n",
    "    pos2, neg2, control2 = make_upon_KD_file(folder2/ f'{event}.MATS.JC.txt', min_reads = 100)\n",
    "    \n",
    "    _ = [make_unique_id(df, columns = columns) for df in [pos1, neg1, control1, pos2, neg2, control2]]\n",
    "    \n",
    "    # filter\n",
    "    pos1 = pos1.loc[pos1['unique_id'].isin(enough_covered_event(pos1))]\n",
    "    pos2 = pos2.loc[pos2['unique_id'].isin(enough_covered_event(pos2))]\n",
    "    neg1 = neg1.loc[neg1['unique_id'].isin(enough_covered_event(neg1))]\n",
    "    neg2 = neg2.loc[neg2['unique_id'].isin(enough_covered_event(neg2))]\n",
    "    \n",
    "    # make intersections\n",
    "    bothpos = pos1.loc[pos1['unique_id'].isin(pos2['unique_id'])]\n",
    "    pos1_uniq = pos1.loc[~pos1['unique_id'].isin(pos2['unique_id'])]\n",
    "    pos2_uniq = pos2.loc[~pos2['unique_id'].isin(pos1['unique_id'])]\n",
    "    \n",
    "    bothneg = neg1.loc[neg1['unique_id'].isin(neg2['unique_id'])]\n",
    "    neg1_uniq = neg1.loc[~neg1['unique_id'].isin(neg2['unique_id'])]\n",
    "    neg2_uniq = neg2.loc[~neg2['unique_id'].isin(neg1['unique_id'])]\n",
    "    \n",
    "    both_ctrl = control1.loc[control1['unique_id'].isin(control2['unique_id'])]\n",
    "         \n",
    "    return bothpos, pos1_uniq, pos2_uniq, bothneg, neg1_uniq, neg2_uniq, both_ctrl\n",
    "    "
   ]
  },
  {
   "cell_type": "code",
   "execution_count": 5,
   "id": "a5763595",
   "metadata": {},
   "outputs": [],
   "source": [
    "def save_rmats_format(df, fname):\n",
    "    df.drop(['unique_id', 'SAMPLE1_read','SAMPLE2_read'], axis = 1, inplace = True)\n",
    "    df.to_csv(fname, sep = '\\t')"
   ]
  },
  {
   "cell_type": "code",
   "execution_count": 6,
   "id": "7af74b2e",
   "metadata": {},
   "outputs": [
    {
     "name": "stdout",
     "output_type": "stream",
     "text": [
      "Going from 424444 events to 75470 significant events.\n",
      "Number of included upon kd: 51029\n",
      "Number of excluded upon kd: 8677\n",
      "Going from 456408 events to 82965 significant events.\n",
      "Number of included upon kd: 55942\n",
      "Number of excluded upon kd: 9536\n",
      "(13116, 25) SE bothpos\n",
      "(3729, 25) SE pos1\n",
      "(6233, 25) SE pos2\n",
      "(919, 25) SE bothneg\n",
      "(459, 25) SE neg1\n",
      "(869, 25) SE neg2\n",
      "(150889, 25) SE ctrl\n",
      "Going from 36755 events to 9139 significant events.\n",
      "Number of included upon kd: 930\n",
      "Number of excluded upon kd: 5040\n",
      "Going from 38326 events to 9604 significant events.\n",
      "Number of included upon kd: 981\n",
      "Number of excluded upon kd: 5165\n",
      "(154, 25) RI bothpos\n",
      "(114, 25) RI pos1\n",
      "(121, 25) RI pos2\n",
      "(1624, 25) RI bothneg\n",
      "(583, 25) RI neg1\n",
      "(758, 25) RI neg2\n",
      "(13605, 25) RI ctrl\n",
      "Going from 336241 events to 41351 significant events.\n",
      "Number of included upon kd: 16050\n",
      "Number of excluded upon kd: 18069\n",
      "Going from 402823 events to 49336 significant events.\n",
      "Number of included upon kd: 19298\n",
      "Number of excluded upon kd: 21566\n",
      "(2131, 27) MXE bothpos\n",
      "(1374, 27) MXE pos1\n",
      "(2185, 27) MXE pos2\n",
      "(3330, 27) MXE bothneg\n",
      "(2291, 27) MXE neg1\n",
      "(3642, 27) MXE neg2\n",
      "(88084, 27) MXE ctrl\n",
      "Going from 108831 events to 9242 significant events.\n",
      "Number of included upon kd: 3421\n",
      "Number of excluded upon kd: 3743\n",
      "Going from 116528 events to 10304 significant events.\n",
      "Number of included upon kd: 3821\n",
      "Number of excluded upon kd: 4203\n",
      "(532, 25) A5SS bothpos\n",
      "(361, 25) A5SS pos1\n",
      "(444, 25) A5SS pos2\n",
      "(663, 25) A5SS bothneg\n",
      "(249, 25) A5SS neg1\n",
      "(469, 25) A5SS neg2\n",
      "(34465, 25) A5SS ctrl\n",
      "Going from 154749 events to 11481 significant events.\n",
      "Number of included upon kd: 4421\n",
      "Number of excluded upon kd: 4066\n",
      "Going from 164455 events to 12410 significant events.\n",
      "Number of included upon kd: 4941\n",
      "Number of excluded upon kd: 4109\n",
      "(688, 25) A3SS bothpos\n",
      "(615, 25) A3SS pos1\n",
      "(750, 25) A3SS pos2\n",
      "(578, 25) A3SS bothneg\n",
      "(414, 25) A3SS neg1\n",
      "(502, 25) A3SS neg2\n",
      "(54154, 25) A3SS ctrl\n"
     ]
    }
   ],
   "source": [
    "for event, column in zip(['SE', 'RI', 'MXE', 'A5SS', 'A3SS'],\n",
    "                        [\n",
    "                        ['chr','exonStart_0base',\n",
    "       'exonEnd', 'upstreamES', 'upstreamEE', 'downstreamES', 'downstreamEE'],\n",
    "                         ['chr', 'strand', 'riExonStart_0base',\n",
    "       'riExonEnd', 'upstreamES', 'upstreamEE', 'downstreamES', 'downstreamEE'],\n",
    "                         ['chr', 'strand', '1stExonStart_0base',\n",
    "       '1stExonEnd', '2ndExonStart_0base', '2ndExonEnd', 'upstreamES',\n",
    "       'upstreamEE', 'downstreamES', 'downstreamEE'],\n",
    "                         ['chr', 'strand', 'longExonStart_0base',\n",
    "       'longExonEnd', 'shortES', 'shortEE','flankingES', 'flankingEE'],\n",
    "                         ['chr', 'strand', 'longExonStart_0base',\n",
    "       'longExonEnd', 'shortES', 'shortEE','flankingES', 'flankingEE']\n",
    "                        ]\n",
    "                        \n",
    "                        ):\n",
    "    bothpos, pos1_uniq, pos2_uniq, bothneg, neg1_uniq, neg2_uniq, both_ctrl=find_subset_events(\n",
    "        wx23, pladb, event = event, columns = column)\n",
    "    \n",
    "    for suffix, df in zip(['bothpos', 'pos1', 'pos2', 'bothneg', 'neg1', 'neg2', 'ctrl'],\n",
    "                         [bothpos, pos1_uniq, pos2_uniq, bothneg, neg1_uniq, neg2_uniq, both_ctrl]\n",
    "                         ):\n",
    "        print(df.shape, event, suffix)\n",
    "        save_rmats_format(df, Path('plad_wx_compare')/f'{event}.{suffix}.tsv')\n",
    "    "
   ]
  },
  {
   "cell_type": "code",
   "execution_count": null,
   "id": "f8dc1a8a",
   "metadata": {},
   "outputs": [],
   "source": []
  },
  {
   "cell_type": "code",
   "execution_count": 7,
   "id": "64706f94",
   "metadata": {},
   "outputs": [
    {
     "ename": "TypeError",
     "evalue": "save_rmats_format() missing 1 required positional argument: 'fname'",
     "output_type": "error",
     "traceback": [
      "\u001b[0;31m---------------------------------------------------------------------------\u001b[0m",
      "\u001b[0;31mTypeError\u001b[0m                                 Traceback (most recent call last)",
      "\u001b[0;32m/scratch/hsher/30255146.tscc-mgr7.local/ipykernel_24107/1933577276.py\u001b[0m in \u001b[0;36m<module>\u001b[0;34m\u001b[0m\n\u001b[0;32m----> 1\u001b[0;31m \u001b[0msave_rmats_format\u001b[0m\u001b[0;34m(\u001b[0m\u001b[0mbothpos\u001b[0m\u001b[0;34m)\u001b[0m\u001b[0;34m\u001b[0m\u001b[0;34m\u001b[0m\u001b[0m\n\u001b[0m",
      "\u001b[0;31mTypeError\u001b[0m: save_rmats_format() missing 1 required positional argument: 'fname'"
     ]
    }
   ],
   "source": [
    "save_rmats_format(bothpos)"
   ]
  },
  {
   "cell_type": "code",
   "execution_count": null,
   "id": "dc4f3cbc",
   "metadata": {},
   "outputs": [],
   "source": [
    "bothpos['ID.1']"
   ]
  },
  {
   "cell_type": "code",
   "execution_count": null,
   "id": "65fa4127",
   "metadata": {},
   "outputs": [],
   "source": [
    "bothpos.head()"
   ]
  },
  {
   "cell_type": "code",
   "execution_count": null,
   "id": "32cf9889",
   "metadata": {},
   "outputs": [],
   "source": [
    "bothpos.shape"
   ]
  },
  {
   "cell_type": "code",
   "execution_count": null,
   "id": "7ee301a4",
   "metadata": {},
   "outputs": [],
   "source": [
    "pos1_uniq.shape"
   ]
  },
  {
   "cell_type": "code",
   "execution_count": null,
   "id": "91bd47ac",
   "metadata": {},
   "outputs": [],
   "source": [
    "pos2_uniq.shape"
   ]
  },
  {
   "cell_type": "code",
   "execution_count": null,
   "id": "94ee627f",
   "metadata": {},
   "outputs": [],
   "source": [
    "bothneg.shape"
   ]
  },
  {
   "cell_type": "code",
   "execution_count": null,
   "id": "685b3f1a",
   "metadata": {},
   "outputs": [],
   "source": [
    "neg1_uniq.shape"
   ]
  },
  {
   "cell_type": "code",
   "execution_count": null,
   "id": "840491f3",
   "metadata": {},
   "outputs": [],
   "source": [
    "neg2_uniq.shape"
   ]
  },
  {
   "cell_type": "code",
   "execution_count": null,
   "id": "bd9a965b",
   "metadata": {},
   "outputs": [],
   "source": [
    "both_ctrl.shape"
   ]
  },
  {
   "cell_type": "code",
   "execution_count": null,
   "id": "e49013b2",
   "metadata": {},
   "outputs": [],
   "source": [
    "df = pd.read_csv('/home/krothamel/projects/Skipper_pipeline/output_MJ_100522/Metadensity_MJ_100622.csv')"
   ]
  },
  {
   "cell_type": "code",
   "execution_count": null,
   "id": "d64960b5",
   "metadata": {},
   "outputs": [],
   "source": [
    "df['bam_0'] = df['bam_0'].str.replace('/home/krothamel/projects/Skipper_pipeline/output_MJ_100522/output/bams/dedup/genome/',\n",
    "                       '/home/hsher/scratch/jarrett_sf3b/').values\n",
    "df['bam_control_0'] = df['bam_control_0'].str.replace('/home/krothamel/projects/Skipper_pipeline/output_MJ_100522/output/bams/dedup/genome/',\n",
    "                       '/home/hsher/scratch/jarrett_sf3b/').values"
   ]
  },
  {
   "cell_type": "code",
   "execution_count": null,
   "id": "0e6cf404",
   "metadata": {},
   "outputs": [],
   "source": [
    "cols = ['minus_0', 'minus_control_0', 'plus_0', 'plus_control_0']\n",
    "for col in cols:\n",
    "    df[col] = df[col].str.replace('/home/krothamel/projects/Skipper_pipeline/output_MJ_100522/output/', \n",
    "                         '/home/hsher/scratch/jarrett_sf3b/').values"
   ]
  },
  {
   "cell_type": "code",
   "execution_count": null,
   "id": "68935d20",
   "metadata": {},
   "outputs": [],
   "source": [
    "df.to_csv('temp_eclip.csv')"
   ]
  },
  {
   "cell_type": "code",
   "execution_count": null,
   "id": "584f6d18",
   "metadata": {},
   "outputs": [],
   "source": [
    "import os\n",
    "df.applymap(os.path.isfile)"
   ]
  },
  {
   "cell_type": "code",
   "execution_count": null,
   "id": "bcf85fc0",
   "metadata": {},
   "outputs": [],
   "source": [
    "[Path(p).name for p in df['bam_0']]"
   ]
  },
  {
   "cell_type": "code",
   "execution_count": null,
   "id": "4859ae4d",
   "metadata": {},
   "outputs": [],
   "source": [
    "[Path(p).parent for p in df['bam_0']]"
   ]
  },
  {
   "cell_type": "code",
   "execution_count": null,
   "id": "2b2046a0",
   "metadata": {},
   "outputs": [],
   "source": []
  }
 ],
 "metadata": {
  "kernelspec": {
   "display_name": "Metadensity",
   "language": "python",
   "name": "metadensity"
  },
  "language_info": {
   "codemirror_mode": {
    "name": "ipython",
    "version": 3
   },
   "file_extension": ".py",
   "mimetype": "text/x-python",
   "name": "python",
   "nbconvert_exporter": "python",
   "pygments_lexer": "ipython3",
   "version": "3.7.12"
  }
 },
 "nbformat": 4,
 "nbformat_minor": 5
}
